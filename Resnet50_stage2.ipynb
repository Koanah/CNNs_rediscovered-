{
  "nbformat": 4,
  "nbformat_minor": 0,
  "metadata": {
    "colab": {
      "provenance": [],
      "machine_shape": "hm",
      "gpuType": "A100",
      "authorship_tag": "ABX9TyMY2GseAFPJBpZa4iKD9JPz",
      "include_colab_link": true
    },
    "kernelspec": {
      "name": "python3",
      "display_name": "Python 3"
    },
    "language_info": {
      "name": "python"
    },
    "accelerator": "GPU"
  },
  "cells": [
    {
      "cell_type": "markdown",
      "metadata": {
        "id": "view-in-github",
        "colab_type": "text"
      },
      "source": [
        "<a href=\"https://colab.research.google.com/github/Koanah/CNNs_rediscovered-/blob/main/Resnet50_stage2.ipynb\" target=\"_parent\"><img src=\"https://colab.research.google.com/assets/colab-badge.svg\" alt=\"Open In Colab\"/></a>"
      ]
    },
    {
      "cell_type": "code",
      "source": [
        "!pip install SimpleITK --quiet"
      ],
      "metadata": {
        "colab": {
          "base_uri": "https://localhost:8080/"
        },
        "id": "_nlant6qNVko",
        "outputId": "f062aa53-4705-48fe-ba48-bc207a7f50f4"
      },
      "execution_count": 1,
      "outputs": [
        {
          "output_type": "stream",
          "name": "stdout",
          "text": [
            "\u001b[2K   \u001b[90m━━━━━━━━━━━━━━━━━━━━━━━━━━━━━━━━━━━━━━━━\u001b[0m \u001b[32m52.6/52.6 MB\u001b[0m \u001b[31m47.6 MB/s\u001b[0m eta \u001b[36m0:00:00\u001b[0m\n",
            "\u001b[?25h"
          ]
        }
      ]
    },
    {
      "cell_type": "code",
      "source": [
        "import os, numpy as np, pandas as pd, tensorflow as tf, SimpleITK as sitk, cv2\n",
        "from tensorflow.keras.applications import ResNet50\n",
        "from tensorflow.keras.layers import Dense, GlobalAveragePooling2D, Dropout\n",
        "from tensorflow.keras.models import Model\n",
        "from tensorflow.keras.preprocessing.image import ImageDataGenerator\n",
        "from tensorflow.keras.callbacks import ReduceLROnPlateau, ModelCheckpoint\n",
        "from tensorflow.keras import regularizers\n",
        "from sklearn.model_selection import train_test_split\n",
        "from sklearn.metrics import classification_report, confusion_matrix, roc_auc_score"
      ],
      "metadata": {
        "id": "9jyPniGvfVxE"
      },
      "execution_count": 2,
      "outputs": []
    },
    {
      "cell_type": "code",
      "source": [
        "\n",
        "# Load scans, candidates, and build cropped dataset\n",
        "\n",
        "from google.colab import drive\n",
        "drive.mount(\"/content/drive\")\n",
        "\n",
        "BASE_PATH = \"/content/drive/MyDrive/LUNA16_trial\"\n",
        "CAND_PATH = os.path.join(BASE_PATH, \"candidate_boxes.csv\")\n",
        "ANN_PATH  = os.path.join(BASE_PATH, \"annotations.csv\")\n",
        "\n",
        "candidates = pd.read_csv(CAND_PATH)\n",
        "annotations = pd.read_csv(ANN_PATH)\n",
        "print(f\" Loaded {len(candidates)} candidates and {len(annotations)} annotations.\")"
      ],
      "metadata": {
        "colab": {
          "base_uri": "https://localhost:8080/"
        },
        "id": "D9TwLrSTNWsZ",
        "outputId": "a8ceee1a-ba1a-4235-fd7c-6f7fc066dc90"
      },
      "execution_count": 3,
      "outputs": [
        {
          "output_type": "stream",
          "name": "stdout",
          "text": [
            "Mounted at /content/drive\n",
            " Loaded 7910 candidates and 1186 annotations.\n"
          ]
        }
      ]
    },
    {
      "cell_type": "code",
      "source": [
        "# Helper functions\n",
        "\n",
        "# load scans\n",
        "def load_luna_scans(base_path):\n",
        "    \"\"\"\n",
        "    Load all LUNA16 scans safely.\n",
        "    Returns a dictionary: {scan_id: SimpleITK image}\n",
        "    Skips missing or corrupt scans silently.\n",
        "    \"\"\"\n",
        "    scans, skipped = {}, []\n",
        "    for i in range(10):\n",
        "        subset_path = os.path.join(base_path, f\"subset{i}\")\n",
        "        if not os.path.exists(subset_path): continue\n",
        "        for file in os.listdir(subset_path):\n",
        "            if file.endswith(\".mhd\"):\n",
        "                mhd_path = os.path.join(subset_path, file)\n",
        "                raw_path = mhd_path.replace(\".mhd\", \".raw\")\n",
        "                if not os.path.exists(raw_path):\n",
        "                    skipped.append(file)\n",
        "                    continue\n",
        "                try:\n",
        "                    scan = sitk.ReadImage(mhd_path)\n",
        "                    uid = file.replace(\".mhd\",\"\")\n",
        "                    scans[uid] = scan\n",
        "                except Exception as e:\n",
        "                    skipped.append(file)\n",
        "    print(f\" Loaded {len(scans)} scans successfully |  Skipped {len(skipped)} corrupt/missing\")\n",
        "    return scans\n",
        "\n",
        "#nrmalize scans\n",
        "\n",
        "def hu_to_float01(img, hu_min=-1000, hu_max=400):\n",
        "    img = np.clip(img, hu_min, hu_max).astype(np.float32)\n",
        "    return (img - hu_min) / (hu_max - hu_min + 1e-6)\n",
        "\n",
        "def world_to_voxel(scan, coord):\n",
        "    \"\"\"Convert world (x,y,z) to voxel (i,j,k) index.\"\"\"\n",
        "    origin = np.array(scan.GetOrigin())\n",
        "    spacing = np.array(scan.GetSpacing())\n",
        "    direction = np.array(scan.GetDirection()).reshape(3,3)\n",
        "    return np.linalg.inv(direction) @ ((np.array(coord) - origin) / spacing)\n",
        "\n",
        "def crop_patch(scan, z_idx, x1, y1, x2, y2, target_size=224):\n",
        "    arr = sitk.GetArrayFromImage(scan)\n",
        "    z = int(np.clip(z_idx, 0, arr.shape[0]-1))\n",
        "    img = hu_to_float01(arr[z])\n",
        "    patch = img[int(y1):int(y2), int(x1):int(x2)]\n",
        "    if patch.size == 0:\n",
        "        return None\n",
        "    patch_resized = tf.image.resize(patch[..., np.newaxis], (target_size, target_size)).numpy()\n",
        "    patch_rgb = np.repeat(patch_resized, 3, axis=-1)\n",
        "    return patch_rgb\n",
        "\n",
        "\n",
        "# IoU helper for labeling true nodules vs false positives\n",
        "def iou(boxA, boxB):\n",
        "    xA, yA = max(boxA[0], boxB[0]), max(boxA[1], boxB[1])\n",
        "    xB, yB = min(boxA[2], boxB[2]), min(boxA[3], boxB[3])\n",
        "    inter = max(0, xB - xA) * max(0, yB - yA)\n",
        "    union = max(0, (boxA[2]-boxA[0])) * max(0, (boxA[3]-boxA[1])) + \\\n",
        "            max(0, (boxB[2]-boxB[0])) * max(0, (boxB[3]-boxB[1])) - inter\n",
        "    return inter / (union + 1e-6)\n",
        "\n",
        "\n",
        "\n",
        "# On-demand scan loader (load one .mhd when needed)\n",
        "\n",
        "def load_single_scan(seriesuid, base_path=BASE_PATH):\n",
        "    \"\"\"Find and load one scan by UID from any subset.\"\"\"\n",
        "    for i in range(10):\n",
        "        subset_path = os.path.join(base_path, f\"subset{i}\")\n",
        "        mhd_path = os.path.join(subset_path, f\"{seriesuid}.mhd\")\n",
        "        raw_path = mhd_path.replace(\".mhd\", \".raw\")\n",
        "        if os.path.exists(mhd_path) and os.path.exists(raw_path):\n",
        "            try:\n",
        "                return sitk.ReadImage(mhd_path)\n",
        "            except Exception as e:\n",
        "                print(f\" Could not load {seriesuid} in subset{i}: {e}\")\n",
        "                return None\n",
        "    return None  # not found"
      ],
      "metadata": {
        "id": "eBRyp-fyNrdc"
      },
      "execution_count": 4,
      "outputs": []
    },
    {
      "cell_type": "code",
      "source": [
        "print(\" Filtering scans relevant to candidate boxes...\")\n",
        "needed_uids = set(candidates[\"seriesuid\"].unique())\n",
        "all_scans = load_luna_scans(BASE_PATH)\n",
        "scans = {uid: scan for uid, scan in all_scans.items() if uid in needed_uids}\n",
        "print(f\" Kept {len(scans)} scans that correspond to candidate boxes.\")\n",
        "\n",
        "# Save filtered scans dictionary for reuse\n",
        "np.save(os.path.join(BASE_PATH, \"filtered_scan_ids.npy\"), np.array(list(scans.keys())))"
      ],
      "metadata": {
        "colab": {
          "base_uri": "https://localhost:8080/"
        },
        "id": "d250ZLt2f0ZK",
        "outputId": "10bf95a1-e647-4fe9-8c02-05363502f9b1"
      },
      "execution_count": 5,
      "outputs": [
        {
          "output_type": "stream",
          "name": "stdout",
          "text": [
            " Filtering scans relevant to candidate boxes...\n",
            " Loaded 708 scans successfully |  Skipped 178 corrupt/missing\n",
            " Kept 475 scans that correspond to candidate boxes.\n"
          ]
        }
      ]
    },
    {
      "cell_type": "markdown",
      "source": [
        "# STEP 3: Build Dataset (auto-label patches)"
      ],
      "metadata": {
        "id": "ag4yEDk5TYnE"
      }
    },
    {
      "cell_type": "code",
      "source": [
        "def world_to_voxel(scan, coord):\n",
        "    origin = np.array(scan.GetOrigin())\n",
        "    spacing = np.array(scan.GetSpacing())\n",
        "    direction = np.array(scan.GetDirection()).reshape(3,3)\n",
        "    return np.linalg.inv(direction) @ ((np.array(coord) - origin) / spacing)\n",
        "\n",
        "patches, labels = [], []\n",
        "\n",
        "for idx, row in candidates.iterrows():\n",
        "    seriesuid = row['seriesuid']\n",
        "    x1, y1, x2, y2, z_idx = row['x1'], row['y1'], row['x2'], row['y2'], row['z_index']\n",
        "    scan = scans.get(seriesuid, None)\n",
        "    if scan is None:\n",
        "        continue\n",
        "\n",
        "    patch = crop_patch(scan, z_idx, x1, y1, x2, y2)\n",
        "    if patch is None:\n",
        "        continue\n",
        "\n",
        "    # Ground truth conversion: world → voxel coordinates\n",
        "    ann = annotations[annotations['seriesuid'] == seriesuid]\n",
        "    label = 0\n",
        "    for _, gt in ann.iterrows():\n",
        "        gt_vox = world_to_voxel(scan, [gt['coordX'], gt['coordY'], gt['coordZ']])\n",
        "        gt_x, gt_y, gt_z = gt_vox\n",
        "        gt_box = [\n",
        "            gt_x - gt['diameter_mm'] / (2 * scan.GetSpacing()[0]),\n",
        "            gt_y - gt['diameter_mm'] / (2 * scan.GetSpacing()[1]),\n",
        "            gt_x + gt['diameter_mm'] / (2 * scan.GetSpacing()[0]),\n",
        "            gt_y + gt['diameter_mm'] / (2 * scan.GetSpacing()[1])\n",
        "        ]\n",
        "\n",
        "        # match z within tolerance (1 slice)\n",
        "        if abs(z_idx - gt_z) <= 1 and iou([x1, y1, x2, y2], gt_box) >= 0.1:\n",
        "            label = 1\n",
        "            break\n",
        "\n",
        "    patches.append(patch)\n",
        "    labels.append(label)\n",
        "\n",
        "    if (idx + 1) % 200 == 0:\n",
        "        print(f\"Processed {idx+1}/{len(candidates)} candidates\")\n",
        "\n",
        "X = np.array(patches, dtype=np.float32)\n",
        "y = np.array(labels, dtype=np.int32)\n",
        "print(f\" Final dataset shape: {X.shape}, Positives: {np.sum(y)}, Negatives: {len(y) - np.sum(y)}\")\n",
        "\n",
        "# Save for reuse\n",
        "np.save(os.path.join(BASE_PATH, \"stage2_X.npy\"), X)\n",
        "np.save(os.path.join(BASE_PATH, \"stage2_y.npy\"), y)\n"
      ],
      "metadata": {
        "colab": {
          "base_uri": "https://localhost:8080/"
        },
        "id": "STFRRQmxRt9Y",
        "outputId": "945f4f7f-48b7-40a8-b562-982502ffd2b4"
      },
      "execution_count": 9,
      "outputs": [
        {
          "output_type": "stream",
          "name": "stdout",
          "text": [
            "Processed 200/7910 candidates\n",
            "Processed 400/7910 candidates\n",
            "Processed 600/7910 candidates\n",
            "Processed 800/7910 candidates\n",
            "Processed 1000/7910 candidates\n",
            "Processed 1200/7910 candidates\n",
            "Processed 1400/7910 candidates\n",
            "Processed 1600/7910 candidates\n",
            "Processed 1800/7910 candidates\n",
            "Processed 2000/7910 candidates\n",
            "Processed 2200/7910 candidates\n",
            "Processed 2400/7910 candidates\n",
            "Processed 2600/7910 candidates\n",
            "Processed 2800/7910 candidates\n",
            "Processed 3000/7910 candidates\n",
            "Processed 3200/7910 candidates\n",
            "Processed 3400/7910 candidates\n",
            "Processed 3600/7910 candidates\n",
            "Processed 3800/7910 candidates\n",
            "Processed 4000/7910 candidates\n",
            "Processed 4200/7910 candidates\n",
            "Processed 4400/7910 candidates\n",
            "Processed 4600/7910 candidates\n",
            "Processed 4800/7910 candidates\n",
            "Processed 5000/7910 candidates\n",
            "Processed 5200/7910 candidates\n",
            "Processed 5400/7910 candidates\n",
            "Processed 5600/7910 candidates\n",
            "Processed 5800/7910 candidates\n",
            "Processed 6000/7910 candidates\n",
            "Processed 6200/7910 candidates\n",
            "Processed 6400/7910 candidates\n",
            "Processed 6600/7910 candidates\n",
            "Processed 6800/7910 candidates\n",
            "Processed 7000/7910 candidates\n",
            "Processed 7200/7910 candidates\n",
            "Processed 7400/7910 candidates\n",
            "Processed 7600/7910 candidates\n",
            "Processed 7800/7910 candidates\n",
            " Final dataset shape: (7910, 224, 224, 3), Positives: 731, Negatives: 7179\n"
          ]
        }
      ]
    },
    {
      "cell_type": "code",
      "source": [
        "\n",
        "''' STEP 3.5: Handle class imbalance with computed class weights\n",
        "\n",
        "from sklearn.utils.class_weight import compute_class_weight\n",
        "\n",
        "classes = np.unique(y)\n",
        "#class_weights = compute_class_weight(class_weight='balanced', classes=classes, y=y)\n",
        "#class_weights = dict(zip(classes, class_weights))\n",
        "class_weights = {0: 1.0, 1: 4.0}\n",
        "\n",
        "print(\"Computed class weights:\", class_weights)'''\n"
      ],
      "metadata": {
        "colab": {
          "base_uri": "https://localhost:8080/"
        },
        "id": "RErCsUl4up-z",
        "outputId": "524478d0-e1c8-4cb0-d974-45148e025edc"
      },
      "execution_count": 23,
      "outputs": [
        {
          "output_type": "stream",
          "name": "stdout",
          "text": [
            "Computed class weights: {0: 1.0, 1: 4.0}\n"
          ]
        }
      ]
    },
    {
      "cell_type": "code",
      "source": [
        "# ============================================================\n",
        "# STEP 3.5: Oversample positive class for balance\n",
        "# ============================================================\n",
        "from sklearn.utils import resample\n",
        "\n",
        "X_pos = X[y == 1]\n",
        "X_neg = X[y == 0]\n",
        "n_pos, n_neg = len(X_pos), len(X_neg)\n",
        "print(f\"Before oversampling -> Pos: {n_pos}, Neg: {n_neg}\")\n",
        "\n",
        "# Oversample positives to match negatives\n",
        "X_pos_oversampled, y_pos_oversampled = resample(\n",
        "    X_pos, np.ones(n_pos, dtype=np.int32),\n",
        "    replace=True, n_samples=n_neg, random_state=42\n",
        ")\n",
        "\n",
        "X_bal = np.concatenate([X_neg, X_pos_oversampled], axis=0)\n",
        "y_bal = np.concatenate([np.zeros(n_neg, dtype=np.int32), y_pos_oversampled], axis=0)\n",
        "print(f\"After oversampling -> Pos: {np.sum(y_bal)}, Neg: {len(y_bal) - np.sum(y_bal)}\")\n",
        "\n",
        "# Shuffle dataset\n",
        "idx = np.arange(len(X_bal))\n",
        "np.random.shuffle(idx)\n",
        "X_bal, y_bal = X_bal[idx], y_bal[idx]"
      ],
      "metadata": {
        "colab": {
          "base_uri": "https://localhost:8080/"
        },
        "id": "SmW3_Y36JhNb",
        "outputId": "1c352f39-aac5-44ca-e94e-906d7e529acf"
      },
      "execution_count": 43,
      "outputs": [
        {
          "output_type": "stream",
          "name": "stdout",
          "text": [
            "Before oversampling -> Pos: 731, Neg: 7179\n",
            "After oversampling -> Pos: 7179, Neg: 7179\n"
          ]
        }
      ]
    },
    {
      "cell_type": "markdown",
      "source": [
        "# Train/Validation Split + Augmentation"
      ],
      "metadata": {
        "id": "FZkfUw_xToxr"
      }
    },
    {
      "cell_type": "code",
      "source": [
        "X_train, X_val, y_train, y_val = train_test_split(\n",
        "    X_bal, y_bal, test_size=0.2, stratify=y_bal, random_state=42\n",
        ")\n",
        "print(f\"Train: {X_train.shape}, Val: {X_val.shape}\")\n",
        "\n",
        "datagen = tf.keras.preprocessing.image.ImageDataGenerator(\n",
        "    rotation_range=10,\n",
        "    width_shift_range=0.1,\n",
        "    height_shift_range=0.1,\n",
        "    zoom_range=0.1,\n",
        "    horizontal_flip=True\n",
        ")\n",
        "datagen.fit(X_train)\n"
      ],
      "metadata": {
        "colab": {
          "base_uri": "https://localhost:8080/"
        },
        "id": "6WlqwV6hTmeL",
        "outputId": "c9e7db25-60aa-408d-aa7c-3c5ccc3c940b"
      },
      "execution_count": 44,
      "outputs": [
        {
          "output_type": "stream",
          "name": "stdout",
          "text": [
            "Train: (11486, 224, 224, 3), Val: (2872, 224, 224, 3)\n"
          ]
        }
      ]
    },
    {
      "cell_type": "markdown",
      "source": [
        "# Build & Train ResNet50 Classifier"
      ],
      "metadata": {
        "id": "X9wl3slWT06_"
      }
    },
    {
      "cell_type": "code",
      "source": [
        "from tensorflow.keras import regularizers\n",
        "\n",
        "base_model = ResNet50(weights=\"imagenet\", include_top=False, input_shape=(224,224,3))\n",
        "for layer in base_model.layers:\n",
        "    layer.trainable = True\n",
        "\n",
        "x = base_model.output\n",
        "x = GlobalAveragePooling2D()(x)\n",
        "x = Dropout(0.3)(x)\n",
        "output = Dense(1, activation=\"sigmoid\",\n",
        "               kernel_regularizer=regularizers.l1_l2(l1=1e-5, l2=1e-4))(x)\n",
        "\n",
        "\n",
        "model = Model(inputs=base_model.input, outputs=output)\n",
        "\n",
        "model.compile(\n",
        "    optimizer=tf.keras.optimizers.Adam(learning_rate=1e-4),\n",
        "    loss=\"binary_crossentropy\",\n",
        "    metrics=[\"accuracy\"])\n",
        "\n",
        "callbacks = [\n",
        "    ModelCheckpoint(\"best_resnet50_stage2.keras\", save_best_only=True, monitor=\"val_loss\"),\n",
        "    ReduceLROnPlateau(monitor=\"val_loss\", factor=0.5, patience=2, min_lr=1e-7, verbose=1)\n",
        "]\n",
        "\n",
        "history = model.fit(\n",
        "    datagen.flow(X_train, y_train, batch_size=4),\n",
        "    validation_data=(X_val, y_val),\n",
        "    epochs=15,\n",
        "    verbose=1,\n",
        "    callbacks=callbacks\n",
        ")"
      ],
      "metadata": {
        "colab": {
          "base_uri": "https://localhost:8080/"
        },
        "id": "QEWd1urCTznW",
        "outputId": "b353db80-30fc-4390-abaa-ab8e5bfc4f6e"
      },
      "execution_count": 45,
      "outputs": [
        {
          "output_type": "stream",
          "name": "stdout",
          "text": [
            "Epoch 1/15\n"
          ]
        },
        {
          "output_type": "stream",
          "name": "stderr",
          "text": [
            "/usr/local/lib/python3.12/dist-packages/keras/src/trainers/data_adapters/py_dataset_adapter.py:121: UserWarning: Your `PyDataset` class should call `super().__init__(**kwargs)` in its constructor. `**kwargs` can include `workers`, `use_multiprocessing`, `max_queue_size`. Do not pass these arguments to `fit()`, as they will be ignored.\n",
            "  self._warn_if_super_not_called()\n"
          ]
        },
        {
          "output_type": "stream",
          "name": "stdout",
          "text": [
            "\u001b[1m2872/2872\u001b[0m \u001b[32m━━━━━━━━━━━━━━━━━━━━\u001b[0m\u001b[37m\u001b[0m \u001b[1m211s\u001b[0m 53ms/step - accuracy: 0.6651 - loss: 0.6335 - val_accuracy: 0.6636 - val_loss: 1.8659\n",
            "Epoch 2/15\n",
            "\u001b[1m2872/2872\u001b[0m \u001b[32m━━━━━━━━━━━━━━━━━━━━\u001b[0m\u001b[37m\u001b[0m \u001b[1m120s\u001b[0m 42ms/step - accuracy: 0.7382 - loss: 0.5151 - val_accuracy: 0.7653 - val_loss: 0.4720\n",
            "Epoch 3/15\n",
            "\u001b[1m2872/2872\u001b[0m \u001b[32m━━━━━━━━━━━━━━━━━━━━\u001b[0m\u001b[37m\u001b[0m \u001b[1m117s\u001b[0m 41ms/step - accuracy: 0.7741 - loss: 0.4713 - val_accuracy: 0.7277 - val_loss: 0.5414\n",
            "Epoch 4/15\n",
            "\u001b[1m2872/2872\u001b[0m \u001b[32m━━━━━━━━━━━━━━━━━━━━\u001b[0m\u001b[37m\u001b[0m \u001b[1m120s\u001b[0m 42ms/step - accuracy: 0.7980 - loss: 0.4308 - val_accuracy: 0.7859 - val_loss: 0.4534\n",
            "Epoch 5/15\n",
            "\u001b[1m2872/2872\u001b[0m \u001b[32m━━━━━━━━━━━━━━━━━━━━\u001b[0m\u001b[37m\u001b[0m \u001b[1m119s\u001b[0m 41ms/step - accuracy: 0.8055 - loss: 0.4053 - val_accuracy: 0.8207 - val_loss: 0.3808\n",
            "Epoch 6/15\n",
            "\u001b[1m2872/2872\u001b[0m \u001b[32m━━━━━━━━━━━━━━━━━━━━\u001b[0m\u001b[37m\u001b[0m \u001b[1m117s\u001b[0m 41ms/step - accuracy: 0.8316 - loss: 0.3825 - val_accuracy: 0.8019 - val_loss: 0.4158\n",
            "Epoch 7/15\n",
            "\u001b[1m2872/2872\u001b[0m \u001b[32m━━━━━━━━━━━━━━━━━━━━\u001b[0m\u001b[37m\u001b[0m \u001b[1m119s\u001b[0m 41ms/step - accuracy: 0.8345 - loss: 0.3684 - val_accuracy: 0.8364 - val_loss: 0.3661\n",
            "Epoch 8/15\n",
            "\u001b[1m2872/2872\u001b[0m \u001b[32m━━━━━━━━━━━━━━━━━━━━\u001b[0m\u001b[37m\u001b[0m \u001b[1m119s\u001b[0m 42ms/step - accuracy: 0.8482 - loss: 0.3401 - val_accuracy: 0.8318 - val_loss: 0.3625\n",
            "Epoch 9/15\n",
            "\u001b[1m2872/2872\u001b[0m \u001b[32m━━━━━━━━━━━━━━━━━━━━\u001b[0m\u001b[37m\u001b[0m \u001b[1m119s\u001b[0m 41ms/step - accuracy: 0.8530 - loss: 0.3264 - val_accuracy: 0.8680 - val_loss: 0.3159\n",
            "Epoch 10/15\n",
            "\u001b[1m2872/2872\u001b[0m \u001b[32m━━━━━━━━━━━━━━━━━━━━\u001b[0m\u001b[37m\u001b[0m \u001b[1m119s\u001b[0m 41ms/step - accuracy: 0.8624 - loss: 0.3162 - val_accuracy: 0.8774 - val_loss: 0.3022\n",
            "Epoch 11/15\n",
            "\u001b[1m2872/2872\u001b[0m \u001b[32m━━━━━━━━━━━━━━━━━━━━\u001b[0m\u001b[37m\u001b[0m \u001b[1m117s\u001b[0m 41ms/step - accuracy: 0.8760 - loss: 0.2840 - val_accuracy: 0.8753 - val_loss: 0.3171\n",
            "Epoch 12/15\n",
            "\u001b[1m2872/2872\u001b[0m \u001b[32m━━━━━━━━━━━━━━━━━━━━\u001b[0m\u001b[37m\u001b[0m \u001b[1m119s\u001b[0m 41ms/step - accuracy: 0.8890 - loss: 0.2667 - val_accuracy: 0.8962 - val_loss: 0.2685\n",
            "Epoch 13/15\n",
            "\u001b[1m2872/2872\u001b[0m \u001b[32m━━━━━━━━━━━━━━━━━━━━\u001b[0m\u001b[37m\u001b[0m \u001b[1m118s\u001b[0m 41ms/step - accuracy: 0.8876 - loss: 0.2618 - val_accuracy: 0.8781 - val_loss: 0.2965\n",
            "Epoch 14/15\n",
            "\u001b[1m2872/2872\u001b[0m \u001b[32m━━━━━━━━━━━━━━━━━━━━\u001b[0m\u001b[37m\u001b[0m \u001b[1m118s\u001b[0m 41ms/step - accuracy: 0.8969 - loss: 0.2441 - val_accuracy: 0.8743 - val_loss: 0.3276\n",
            "Epoch 15/15\n",
            "\u001b[1m2872/2872\u001b[0m \u001b[32m━━━━━━━━━━━━━━━━━━━━\u001b[0m\u001b[37m\u001b[0m \u001b[1m119s\u001b[0m 41ms/step - accuracy: 0.9072 - loss: 0.2223 - val_accuracy: 0.9049 - val_loss: 0.2466\n"
          ]
        }
      ]
    },
    {
      "cell_type": "markdown",
      "source": [
        "#eVALUATION"
      ],
      "metadata": {
        "id": "M9Oz5B4uUAHN"
      }
    },
    {
      "cell_type": "code",
      "source": [
        "\n",
        "val_loss, val_acc = model.evaluate(X_val, y_val)\n",
        "y_pred = (model.predict(X_val) > 0.5).astype(int)\n",
        "\n",
        "print(f\"\\n Validation Accuracy: {val_acc:.4f}, Loss: {val_loss:.4f}\")\n",
        "print(classification_report(y_val, y_pred))\n",
        "print(\"Confusion Matrix:\")\n",
        "print(confusion_matrix(y_val, y_pred))\n",
        "print(f\"ROC-AUC: {roc_auc_score(y_val, y_pred):.4f}\")"
      ],
      "metadata": {
        "colab": {
          "base_uri": "https://localhost:8080/"
        },
        "id": "xvKeHbRxT9gc",
        "outputId": "31e19496-aa50-41c0-bf89-3cd5cc00b219"
      },
      "execution_count": 46,
      "outputs": [
        {
          "output_type": "stream",
          "name": "stdout",
          "text": [
            "\u001b[1m90/90\u001b[0m \u001b[32m━━━━━━━━━━━━━━━━━━━━\u001b[0m\u001b[37m\u001b[0m \u001b[1m2s\u001b[0m 19ms/step - accuracy: 0.8994 - loss: 0.2742\n",
            "\u001b[1m90/90\u001b[0m \u001b[32m━━━━━━━━━━━━━━━━━━━━\u001b[0m\u001b[37m\u001b[0m \u001b[1m9s\u001b[0m 61ms/step\n",
            "\n",
            " Validation Accuracy: 0.9049, Loss: 0.2466\n",
            "              precision    recall  f1-score   support\n",
            "\n",
            "           0       0.95      0.86      0.90      1436\n",
            "           1       0.87      0.95      0.91      1436\n",
            "\n",
            "    accuracy                           0.90      2872\n",
            "   macro avg       0.91      0.90      0.90      2872\n",
            "weighted avg       0.91      0.90      0.90      2872\n",
            "\n",
            "Confusion Matrix:\n",
            "[[1232  204]\n",
            " [  69 1367]]\n",
            "ROC-AUC: 0.9049\n"
          ]
        }
      ]
    },
    {
      "cell_type": "code",
      "source": [
        "import matplotlib.pyplot as plt\n",
        "\n",
        "# Plot training curves"
      ],
      "metadata": {
        "id": "M9Os_qiq1H3R"
      },
      "execution_count": 47,
      "outputs": []
    },
    {
      "cell_type": "code",
      "source": [
        "val_loss, val_acc = model.evaluate(X_val, y_val)\n",
        "print(f\" Validation Accuracy: {val_acc:.4f}, Loss: {val_loss:.4f}\")\n",
        "\n",
        "# Plot training curves\n",
        "plt.figure(figsize=(10,4))\n",
        "plt.subplot(1,2,1)\n",
        "plt.plot(history.history['accuracy'], label='Train Acc')\n",
        "plt.plot(history.history['val_accuracy'], label='Val Acc')\n",
        "plt.legend(); plt.title(\"Accuracy\")\n",
        "\n",
        "plt.subplot(1,2,2)\n",
        "plt.plot(history.history['loss'], label='Train Loss')\n",
        "plt.plot(history.history['val_loss'], label='Val Loss')\n",
        "plt.legend(); plt.title(\"Loss\")\n",
        "plt.show()"
      ],
      "metadata": {
        "colab": {
          "base_uri": "https://localhost:8080/",
          "height": 446
        },
        "id": "ymI5EV241Emg",
        "outputId": "953471a0-a67a-41af-c9fb-6c3e59157e21"
      },
      "execution_count": 48,
      "outputs": [
        {
          "output_type": "stream",
          "name": "stdout",
          "text": [
            "\u001b[1m90/90\u001b[0m \u001b[32m━━━━━━━━━━━━━━━━━━━━\u001b[0m\u001b[37m\u001b[0m \u001b[1m2s\u001b[0m 19ms/step - accuracy: 0.8994 - loss: 0.2742\n",
            " Validation Accuracy: 0.9049, Loss: 0.2466\n"
          ]
        },
        {
          "output_type": "display_data",
          "data": {
            "text/plain": [
              "<Figure size 1000x400 with 2 Axes>"
            ],
            "image/png": "[encoded data removed]"
          },
          "metadata": {}
        }
      ]
    }
  ]
}