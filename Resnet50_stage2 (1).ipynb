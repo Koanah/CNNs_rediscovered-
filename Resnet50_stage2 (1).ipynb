{
  "cells": [
    {
      "cell_type": "code",
      "execution_count": 4,
      "metadata": {
        "id": "_nlant6qNVko"
      },
      "outputs": [],
      "source": [
        "!pip install SimpleITK --quiet"
      ]
    },
    {
      "cell_type": "code",
      "execution_count": 5,
      "metadata": {
        "id": "9jyPniGvfVxE"
      },
      "outputs": [],
      "source": [
        "import os, numpy as np, pandas as pd, tensorflow as tf, SimpleITK as sitk, cv2\n",
        "from tensorflow.keras.applications import ResNet50\n",
        "from tensorflow.keras.layers import Dense, GlobalAveragePooling2D, Dropout\n",
        "from tensorflow.keras.models import Model\n",
        "from tensorflow.keras.preprocessing.image import ImageDataGenerator\n",
        "from tensorflow.keras.callbacks import ReduceLROnPlateau, ModelCheckpoint\n",
        "from tensorflow.keras import regularizers\n",
        "from sklearn.model_selection import train_test_split\n",
        "from sklearn.metrics import classification_report, confusion_matrix, roc_auc_score"
      ]
    },
    {
      "cell_type": "code",
      "execution_count": 6,
      "metadata": {
        "colab": {
          "base_uri": "https://localhost:8080/"
        },
        "id": "D9TwLrSTNWsZ",
        "outputId": "a68f7c00-735b-4715-fb32-624c1fe2ad63"
      },
      "outputs": [
        {
          "output_type": "stream",
          "name": "stdout",
          "text": [
            "Mounted at /content/drive\n",
            " Loaded 7910 candidates and 1186 annotations.\n"
          ]
        }
      ],
      "source": [
        "\n",
        "# Load scans, candidates, and build cropped dataset\n",
        "\n",
        "from google.colab import drive\n",
        "drive.mount(\"/content/drive\")\n",
        "\n",
        "BASE_PATH = \"/content/drive/MyDrive/LUNA16_trial\"\n",
        "CAND_PATH = os.path.join(BASE_PATH, \"candidate_boxes.csv\")\n",
        "ANN_PATH  = os.path.join(BASE_PATH, \"annotations.csv\")\n",
        "\n",
        "candidates = pd.read_csv(CAND_PATH)\n",
        "annotations = pd.read_csv(ANN_PATH)\n",
        "print(f\" Loaded {len(candidates)} candidates and {len(annotations)} annotations.\")"
      ]
    },
    {
      "cell_type": "code",
      "execution_count": 7,
      "metadata": {
        "id": "eBRyp-fyNrdc"
      },
      "outputs": [],
      "source": [
        "# Helper functions\n",
        "\n",
        "# load scans\n",
        "def load_luna_scans(base_path):\n",
        "    \"\"\"\n",
        "    Load all LUNA16 scans safely.\n",
        "    Returns a dictionary: {scan_id: SimpleITK image}\n",
        "    Skips missing or corrupt scans silently.\n",
        "    \"\"\"\n",
        "    scans, skipped = {}, []\n",
        "    for i in range(10):\n",
        "        subset_path = os.path.join(base_path, f\"subset{i}\")\n",
        "        if not os.path.exists(subset_path): continue\n",
        "        for file in os.listdir(subset_path):\n",
        "            if file.endswith(\".mhd\"):\n",
        "                mhd_path = os.path.join(subset_path, file)\n",
        "                raw_path = mhd_path.replace(\".mhd\", \".raw\")\n",
        "                if not os.path.exists(raw_path):\n",
        "                    skipped.append(file)\n",
        "                    continue\n",
        "                try:\n",
        "                    scan = sitk.ReadImage(mhd_path)\n",
        "                    uid = file.replace(\".mhd\",\"\")\n",
        "                    scans[uid] = scan\n",
        "                except Exception as e:\n",
        "                    skipped.append(file)\n",
        "    print(f\" Loaded {len(scans)} scans successfully |  Skipped {len(skipped)} corrupt/missing\")\n",
        "    return scans\n",
        "\n",
        "#nrmalize scans\n",
        "\n",
        "def hu_to_float01(img, hu_min=-1000, hu_max=400):\n",
        "    img = np.clip(img, hu_min, hu_max).astype(np.float32)\n",
        "    return (img - hu_min) / (hu_max - hu_min + 1e-6)\n",
        "\n",
        "def world_to_voxel(scan, coord):\n",
        "    \"\"\"Convert world (x,y,z) to voxel (i,j,k) index.\"\"\"\n",
        "    origin = np.array(scan.GetOrigin())\n",
        "    spacing = np.array(scan.GetSpacing())\n",
        "    direction = np.array(scan.GetDirection()).reshape(3,3)\n",
        "    return np.linalg.inv(direction) @ ((np.array(coord) - origin) / spacing)\n",
        "\n",
        "def crop_patch(scan, z_idx, x1, y1, x2, y2, target_size=224):\n",
        "    arr = sitk.GetArrayFromImage(scan)\n",
        "    z = int(np.clip(z_idx, 0, arr.shape[0]-1))\n",
        "    img = hu_to_float01(arr[z])\n",
        "    patch = img[int(y1):int(y2), int(x1):int(x2)]\n",
        "    if patch.size == 0:\n",
        "        return None\n",
        "    patch_resized = tf.image.resize(patch[..., np.newaxis], (target_size, target_size)).numpy()\n",
        "    patch_rgb = np.repeat(patch_resized, 3, axis=-1)\n",
        "    return patch_rgb\n",
        "\n",
        "\n",
        "# IoU helper for labeling true nodules vs false positives\n",
        "def iou(boxA, boxB):\n",
        "    xA, yA = max(boxA[0], boxB[0]), max(boxA[1], boxB[1])\n",
        "    xB, yB = min(boxA[2], boxB[2]), min(boxA[3], boxB[3])\n",
        "    inter = max(0, xB - xA) * max(0, yB - yA)\n",
        "    union = max(0, (boxA[2]-boxA[0])) * max(0, (boxA[3]-boxA[1])) + \\\n",
        "            max(0, (boxB[2]-boxB[0])) * max(0, (boxB[3]-boxB[1])) - inter\n",
        "    return inter / (union + 1e-6)\n",
        "\n",
        "\n",
        "\n",
        "# On-demand scan loader (load one .mhd when needed)\n",
        "\n",
        "def load_single_scan(seriesuid, base_path=BASE_PATH):\n",
        "    \"\"\"Find and load one scan by UID from any subset.\"\"\"\n",
        "    for i in range(10):\n",
        "        subset_path = os.path.join(base_path, f\"subset{i}\")\n",
        "        mhd_path = os.path.join(subset_path, f\"{seriesuid}.mhd\")\n",
        "        raw_path = mhd_path.replace(\".mhd\", \".raw\")\n",
        "        if os.path.exists(mhd_path) and os.path.exists(raw_path):\n",
        "            try:\n",
        "                return sitk.ReadImage(mhd_path)\n",
        "            except Exception as e:\n",
        "                print(f\" Could not load {seriesuid} in subset{i}: {e}\")\n",
        "                return None\n",
        "    return None  # not found"
      ]
    },
    {
      "cell_type": "code",
      "execution_count": 8,
      "metadata": {
        "colab": {
          "base_uri": "https://localhost:8080/"
        },
        "id": "d250ZLt2f0ZK",
        "outputId": "5cf886aa-0224-4244-a3ca-74989e63990f"
      },
      "outputs": [
        {
          "output_type": "stream",
          "name": "stdout",
          "text": [
            " Filtering scans relevant to candidate boxes...\n",
            " Loaded 708 scans successfully |  Skipped 178 corrupt/missing\n",
            " Kept 475 scans that correspond to candidate boxes.\n"
          ]
        }
      ],
      "source": [
        "print(\" Filtering scans relevant to candidate boxes...\")\n",
        "needed_uids = set(candidates[\"seriesuid\"].unique())\n",
        "all_scans = load_luna_scans(BASE_PATH)\n",
        "scans = {uid: scan for uid, scan in all_scans.items() if uid in needed_uids}\n",
        "print(f\" Kept {len(scans)} scans that correspond to candidate boxes.\")\n",
        "\n",
        "# Save filtered scans dictionary for reuse\n",
        "np.save(os.path.join(BASE_PATH, \"filtered_scan_ids.npy\"), np.array(list(scans.keys())))"
      ]
    },
    {
      "cell_type": "markdown",
      "metadata": {
        "id": "ag4yEDk5TYnE"
      },
      "source": [
        "# STEP 3: Build Dataset (auto-label patches)"
      ]
    },
    {
      "cell_type": "code",
      "execution_count": 9,
      "metadata": {
        "id": "STFRRQmxRt9Y",
        "colab": {
          "base_uri": "https://localhost:8080/"
        },
        "outputId": "1771d847-8f32-4d0c-f2b2-d98b38a5add9"
      },
      "outputs": [
        {
          "output_type": "stream",
          "name": "stdout",
          "text": [
            "Processed 200/7910 candidates\n",
            "Processed 400/7910 candidates\n",
            "Processed 600/7910 candidates\n",
            "Processed 800/7910 candidates\n",
            "Processed 1000/7910 candidates\n",
            "Processed 1200/7910 candidates\n",
            "Processed 1400/7910 candidates\n",
            "Processed 1600/7910 candidates\n",
            "Processed 1800/7910 candidates\n",
            "Processed 2000/7910 candidates\n",
            "Processed 2200/7910 candidates\n",
            "Processed 2400/7910 candidates\n",
            "Processed 2600/7910 candidates\n",
            "Processed 2800/7910 candidates\n",
            "Processed 3000/7910 candidates\n",
            "Processed 3200/7910 candidates\n",
            "Processed 3400/7910 candidates\n",
            "Processed 3600/7910 candidates\n",
            "Processed 3800/7910 candidates\n",
            "Processed 4000/7910 candidates\n",
            "Processed 4200/7910 candidates\n",
            "Processed 4400/7910 candidates\n",
            "Processed 4600/7910 candidates\n",
            "Processed 4800/7910 candidates\n",
            "Processed 5000/7910 candidates\n",
            "Processed 5200/7910 candidates\n",
            "Processed 5400/7910 candidates\n",
            "Processed 5600/7910 candidates\n",
            "Processed 5800/7910 candidates\n",
            "Processed 6000/7910 candidates\n",
            "Processed 6200/7910 candidates\n",
            "Processed 6400/7910 candidates\n",
            "Processed 6600/7910 candidates\n",
            "Processed 6800/7910 candidates\n",
            "Processed 7000/7910 candidates\n",
            "Processed 7200/7910 candidates\n",
            "Processed 7400/7910 candidates\n",
            "Processed 7600/7910 candidates\n",
            "Processed 7800/7910 candidates\n",
            " Final dataset shape: (7910, 224, 224, 3), Positives: 731, Negatives: 7179\n"
          ]
        }
      ],
      "source": [
        "def world_to_voxel(scan, coord):\n",
        "    origin = np.array(scan.GetOrigin())\n",
        "    spacing = np.array(scan.GetSpacing())\n",
        "    direction = np.array(scan.GetDirection()).reshape(3,3)\n",
        "    return np.linalg.inv(direction) @ ((np.array(coord) - origin) / spacing)\n",
        "\n",
        "patches, labels = [], []\n",
        "\n",
        "for idx, row in candidates.iterrows():\n",
        "    seriesuid = row['seriesuid']\n",
        "    x1, y1, x2, y2, z_idx = row['x1'], row['y1'], row['x2'], row['y2'], row['z_index']\n",
        "    scan = scans.get(seriesuid, None)\n",
        "    if scan is None:\n",
        "        continue\n",
        "\n",
        "    patch = crop_patch(scan, z_idx, x1, y1, x2, y2)\n",
        "    if patch is None:\n",
        "        continue\n",
        "\n",
        "    # Ground truth conversion: world → voxel coordinates\n",
        "    ann = annotations[annotations['seriesuid'] == seriesuid]\n",
        "    label = 0\n",
        "    for _, gt in ann.iterrows():\n",
        "        gt_vox = world_to_voxel(scan, [gt['coordX'], gt['coordY'], gt['coordZ']])\n",
        "        gt_x, gt_y, gt_z = gt_vox\n",
        "        gt_box = [\n",
        "            gt_x - gt['diameter_mm'] / (2 * scan.GetSpacing()[0]),\n",
        "            gt_y - gt['diameter_mm'] / (2 * scan.GetSpacing()[1]),\n",
        "            gt_x + gt['diameter_mm'] / (2 * scan.GetSpacing()[0]),\n",
        "            gt_y + gt['diameter_mm'] / (2 * scan.GetSpacing()[1])\n",
        "        ]\n",
        "\n",
        "        # match z within tolerance (1 slice)\n",
        "        if abs(z_idx - gt_z) <= 1 and iou([x1, y1, x2, y2], gt_box) >= 0.1:\n",
        "            label = 1\n",
        "            break\n",
        "\n",
        "    patches.append(patch)\n",
        "    labels.append(label)\n",
        "\n",
        "    if (idx + 1) % 200 == 0:\n",
        "        print(f\"Processed {idx+1}/{len(candidates)} candidates\")\n",
        "\n",
        "X = np.array(patches, dtype=np.float32)\n",
        "y = np.array(labels, dtype=np.int32)\n",
        "print(f\" Final dataset shape: {X.shape}, Positives: {np.sum(y)}, Negatives: {len(y) - np.sum(y)}\")\n",
        "\n",
        "# Save for reuse\n",
        "np.save(os.path.join(BASE_PATH, \"stage2_X.npy\"), X)\n",
        "np.save(os.path.join(BASE_PATH, \"stage2_y.npy\"), y)\n"
      ]
    },
    {
      "cell_type": "code",
      "execution_count": 10,
      "metadata": {
        "id": "SmW3_Y36JhNb",
        "colab": {
          "base_uri": "https://localhost:8080/"
        },
        "outputId": "bd8b377e-3df0-46a2-a095-1f4a749c252c"
      },
      "outputs": [
        {
          "output_type": "stream",
          "name": "stdout",
          "text": [
            "Before oversampling -> Pos: 731, Neg: 7179\n",
            "After oversampling -> Pos: 7179, Neg: 7179\n"
          ]
        }
      ],
      "source": [
        "# ============================================================\n",
        "# STEP 3.5: Oversample positive class for balance\n",
        "# ============================================================\n",
        "from sklearn.utils import resample\n",
        "\n",
        "X_pos = X[y == 1]\n",
        "X_neg = X[y == 0]\n",
        "n_pos, n_neg = len(X_pos), len(X_neg)\n",
        "print(f\"Before oversampling -> Pos: {n_pos}, Neg: {n_neg}\")\n",
        "\n",
        "# Oversample positives to match negatives\n",
        "X_pos_oversampled, y_pos_oversampled = resample(\n",
        "    X_pos, np.ones(n_pos, dtype=np.int32),\n",
        "    replace=True, n_samples=n_neg, random_state=42\n",
        ")\n",
        "\n",
        "X_bal = np.concatenate([X_neg, X_pos_oversampled], axis=0)\n",
        "y_bal = np.concatenate([np.zeros(n_neg, dtype=np.int32), y_pos_oversampled], axis=0)\n",
        "print(f\"After oversampling -> Pos: {np.sum(y_bal)}, Neg: {len(y_bal) - np.sum(y_bal)}\")\n",
        "\n",
        "# Shuffle dataset\n",
        "idx = np.arange(len(X_bal))\n",
        "np.random.shuffle(idx)\n",
        "X_bal, y_bal = X_bal[idx], y_bal[idx]"
      ]
    },
    {
      "cell_type": "markdown",
      "metadata": {
        "id": "FZkfUw_xToxr"
      },
      "source": [
        "# Train/Validation Split + Augmentation"
      ]
    },
    {
      "cell_type": "code",
      "execution_count": 11,
      "metadata": {
        "id": "6WlqwV6hTmeL",
        "colab": {
          "base_uri": "https://localhost:8080/"
        },
        "outputId": "237b63f3-339f-415a-bb05-91139d93ff50"
      },
      "outputs": [
        {
          "output_type": "stream",
          "name": "stdout",
          "text": [
            "Train: (11486, 224, 224, 3), Val: (2872, 224, 224, 3)\n"
          ]
        }
      ],
      "source": [
        "X_train, X_val, y_train, y_val = train_test_split(\n",
        "    X_bal, y_bal, test_size=0.2, stratify=y_bal, random_state=42\n",
        ")\n",
        "print(f\"Train: {X_train.shape}, Val: {X_val.shape}\")\n",
        "\n",
        "datagen = tf.keras.preprocessing.image.ImageDataGenerator(\n",
        "    rotation_range=10,\n",
        "    width_shift_range=0.1,\n",
        "    height_shift_range=0.1,\n",
        "    zoom_range=0.1,\n",
        "    horizontal_flip=True\n",
        ")\n",
        "datagen.fit(X_train)\n"
      ]
    },
    {
      "cell_type": "markdown",
      "metadata": {
        "id": "X9wl3slWT06_"
      },
      "source": [
        "# Build & Train ResNet50 Classifier"
      ]
    },
    {
      "cell_type": "code",
      "execution_count": 12,
      "metadata": {
        "id": "QEWd1urCTznW",
        "colab": {
          "base_uri": "https://localhost:8080/"
        },
        "outputId": "1a9baec2-f048-48d5-e717-de6bb3fa34b9"
      },
      "outputs": [
        {
          "metadata": {
            "tags": null
          },
          "name": "stdout",
          "output_type": "stream",
          "text": [
            "Downloading data from https://storage.googleapis.com/tensorflow/keras-applications/resnet/resnet50_weights_tf_dim_ordering_tf_kernels_notop.h5\n",
            "\u001b[1m94765736/94765736\u001b[0m \u001b[32m━━━━━━━━━━━━━━━━━━━━\u001b[0m\u001b[37m\u001b[0m \u001b[1m5s\u001b[0m 0us/step\n",
            "Epoch 1/15\n"
          ]
        },
        {
          "metadata": {
            "tags": null
          },
          "name": "stderr",
          "output_type": "stream",
          "text": [
            "/usr/local/lib/python3.12/dist-packages/keras/src/trainers/data_adapters/py_dataset_adapter.py:121: UserWarning: Your `PyDataset` class should call `super().__init__(**kwargs)` in its constructor. `**kwargs` can include `workers`, `use_multiprocessing`, `max_queue_size`. Do not pass these arguments to `fit()`, as they will be ignored.\n",
            "  self._warn_if_super_not_called()\n"
          ]
        },
        {
          "output_type": "stream",
          "name": "stdout",
          "text": [
            "\u001b[1m2872/2872\u001b[0m \u001b[32m━━━━━━━━━━━━━━━━━━━━\u001b[0m\u001b[37m\u001b[0m \u001b[1m219s\u001b[0m 55ms/step - accuracy: 0.6797 - loss: 0.6280 - val_accuracy: 0.7660 - val_loss: 0.5294 - learning_rate: 1.0000e-04\n",
            "Epoch 2/15\n",
            "\u001b[1m2872/2872\u001b[0m \u001b[32m━━━━━━━━━━━━━━━━━━━━\u001b[0m\u001b[37m\u001b[0m \u001b[1m123s\u001b[0m 43ms/step - accuracy: 0.7452 - loss: 0.5032 - val_accuracy: 0.7615 - val_loss: 0.4867 - learning_rate: 1.0000e-04\n",
            "Epoch 3/15\n",
            "\u001b[1m2872/2872\u001b[0m \u001b[32m━━━━━━━━━━━━━━━━━━━━\u001b[0m\u001b[37m\u001b[0m \u001b[1m123s\u001b[0m 43ms/step - accuracy: 0.7734 - loss: 0.4656 - val_accuracy: 0.7695 - val_loss: 0.4755 - learning_rate: 1.0000e-04\n",
            "Epoch 4/15\n",
            "\u001b[1m2872/2872\u001b[0m \u001b[32m━━━━━━━━━━━━━━━━━━━━\u001b[0m\u001b[37m\u001b[0m \u001b[1m123s\u001b[0m 43ms/step - accuracy: 0.7919 - loss: 0.4431 - val_accuracy: 0.8290 - val_loss: 0.3820 - learning_rate: 1.0000e-04\n",
            "Epoch 5/15\n",
            "\u001b[1m2872/2872\u001b[0m \u001b[32m━━━━━━━━━━━━━━━━━━━━\u001b[0m\u001b[37m\u001b[0m \u001b[1m121s\u001b[0m 42ms/step - accuracy: 0.7987 - loss: 0.4182 - val_accuracy: 0.7347 - val_loss: 0.4818 - learning_rate: 1.0000e-04\n",
            "Epoch 6/15\n",
            "\u001b[1m2872/2872\u001b[0m \u001b[32m━━━━━━━━━━━━━━━━━━━━\u001b[0m\u001b[37m\u001b[0m \u001b[1m0s\u001b[0m 42ms/step - accuracy: 0.8191 - loss: 0.3896\n",
            "Epoch 6: ReduceLROnPlateau reducing learning rate to 1.9999999494757503e-05.\n",
            "\u001b[1m2872/2872\u001b[0m \u001b[32m━━━━━━━━━━━━━━━━━━━━\u001b[0m\u001b[37m\u001b[0m \u001b[1m123s\u001b[0m 43ms/step - accuracy: 0.8191 - loss: 0.3896 - val_accuracy: 0.8137 - val_loss: 0.3898 - learning_rate: 1.0000e-04\n",
            "Epoch 7/15\n",
            "\u001b[1m2872/2872\u001b[0m \u001b[32m━━━━━━━━━━━━━━━━━━━━\u001b[0m\u001b[37m\u001b[0m \u001b[1m124s\u001b[0m 43ms/step - accuracy: 0.8561 - loss: 0.3171 - val_accuracy: 0.8799 - val_loss: 0.2924 - learning_rate: 2.0000e-05\n",
            "Epoch 8/15\n",
            "\u001b[1m2872/2872\u001b[0m \u001b[32m━━━━━━━━━━━━━━━━━━━━\u001b[0m\u001b[37m\u001b[0m \u001b[1m122s\u001b[0m 42ms/step - accuracy: 0.8806 - loss: 0.2784 - val_accuracy: 0.8948 - val_loss: 0.2708 - learning_rate: 2.0000e-05\n",
            "Epoch 9/15\n",
            "\u001b[1m2872/2872\u001b[0m \u001b[32m━━━━━━━━━━━━━━━━━━━━\u001b[0m\u001b[37m\u001b[0m \u001b[1m122s\u001b[0m 42ms/step - accuracy: 0.8950 - loss: 0.2504 - val_accuracy: 0.9004 - val_loss: 0.2405 - learning_rate: 2.0000e-05\n",
            "Epoch 10/15\n",
            "\u001b[1m2872/2872\u001b[0m \u001b[32m━━━━━━━━━━━━━━━━━━━━\u001b[0m\u001b[37m\u001b[0m \u001b[1m120s\u001b[0m 42ms/step - accuracy: 0.9072 - loss: 0.2208 - val_accuracy: 0.9171 - val_loss: 0.2216 - learning_rate: 2.0000e-05\n",
            "Epoch 11/15\n",
            "\u001b[1m2872/2872\u001b[0m \u001b[32m━━━━━━━━━━━━━━━━━━━━\u001b[0m\u001b[37m\u001b[0m \u001b[1m119s\u001b[0m 41ms/step - accuracy: 0.9142 - loss: 0.2067 - val_accuracy: 0.9105 - val_loss: 0.2332 - learning_rate: 2.0000e-05\n",
            "Epoch 12/15\n",
            "\u001b[1m2872/2872\u001b[0m \u001b[32m━━━━━━━━━━━━━━━━━━━━\u001b[0m\u001b[37m\u001b[0m \u001b[1m120s\u001b[0m 42ms/step - accuracy: 0.9270 - loss: 0.1848 - val_accuracy: 0.9318 - val_loss: 0.1786 - learning_rate: 2.0000e-05\n",
            "Epoch 13/15\n",
            "\u001b[1m2872/2872\u001b[0m \u001b[32m━━━━━━━━━━━━━━━━━━━━\u001b[0m\u001b[37m\u001b[0m \u001b[1m121s\u001b[0m 42ms/step - accuracy: 0.9287 - loss: 0.1794 - val_accuracy: 0.9380 - val_loss: 0.1608 - learning_rate: 2.0000e-05\n",
            "Epoch 14/15\n",
            "\u001b[1m2872/2872\u001b[0m \u001b[32m━━━━━━━━━━━━━━━━━━━━\u001b[0m\u001b[37m\u001b[0m \u001b[1m117s\u001b[0m 41ms/step - accuracy: 0.9329 - loss: 0.1680 - val_accuracy: 0.9345 - val_loss: 0.1686 - learning_rate: 2.0000e-05\n",
            "Epoch 15/15\n",
            "\u001b[1m2872/2872\u001b[0m \u001b[32m━━━━━━━━━━━━━━━━━━━━\u001b[0m\u001b[37m\u001b[0m \u001b[1m119s\u001b[0m 41ms/step - accuracy: 0.9413 - loss: 0.1539 - val_accuracy: 0.9460 - val_loss: 0.1474 - learning_rate: 2.0000e-05\n"
          ]
        }
      ],
      "source": [
        "from tensorflow.keras import regularizers\n",
        "from tensorflow.keras.callbacks import EarlyStopping\n",
        "\n",
        "base_model = ResNet50(weights=\"imagenet\", include_top=False, input_shape=(224,224,3))\n",
        "for layer in base_model.layers:\n",
        "    layer.trainable = True\n",
        "\n",
        "x = base_model.output\n",
        "x = GlobalAveragePooling2D()(x)\n",
        "x = Dropout(0.3)(x)\n",
        "output = Dense(1, activation=\"sigmoid\",\n",
        "               kernel_regularizer=regularizers.l1_l2(l1=1e-5, l2=1e-4))(x)\n",
        "\n",
        "\n",
        "model = Model(inputs=base_model.input, outputs=output)\n",
        "\n",
        "model.compile(\n",
        "    optimizer=tf.keras.optimizers.Adam(learning_rate=1e-4),\n",
        "    loss=\"binary_crossentropy\",\n",
        "    metrics=[\"accuracy\"])\n",
        "\n",
        "'''early_stopping_callback = EarlyStopping(\n",
        "    monitor='val_loss',\n",
        "    patience=5,\n",
        "    restore_best_weights=True,\n",
        "    verbose=1\n",
        ")'''\n",
        "\n",
        "callbacks = [\n",
        "    ModelCheckpoint(\"best_resnet50_stage2.keras\", save_best_only=True, monitor=\"val_loss\"),\n",
        "    ReduceLROnPlateau(monitor=\"val_loss\", factor=0.2, patience=2, min_lr=1e-7, verbose=1),\n",
        "    #early_stopping_callback\n",
        "]\n",
        "\n",
        "history = model.fit(\n",
        "    datagen.flow(X_train, y_train, batch_size=4),\n",
        "    validation_data=(X_val, y_val),\n",
        "    epochs=15,\n",
        "    verbose=1,\n",
        "    callbacks=callbacks\n",
        ")"
      ]
    },
    {
      "cell_type": "markdown",
      "metadata": {
        "id": "M9Oz5B4uUAHN"
      },
      "source": [
        "#eVALUATION"
      ]
    },
    {
      "cell_type": "code",
      "execution_count": 18,
      "metadata": {
        "id": "xvKeHbRxT9gc",
        "colab": {
          "base_uri": "https://localhost:8080/"
        },
        "outputId": "57ebe00e-d431-4948-cf6e-3b5d47e52534"
      },
      "outputs": [
        {
          "output_type": "stream",
          "name": "stdout",
          "text": [
            "\u001b[1m90/90\u001b[0m \u001b[32m━━━━━━━━━━━━━━━━━━━━\u001b[0m\u001b[37m\u001b[0m \u001b[1m2s\u001b[0m 19ms/step - accuracy: 0.9435 - loss: 0.1552\n",
            "\u001b[1m90/90\u001b[0m \u001b[32m━━━━━━━━━━━━━━━━━━━━\u001b[0m\u001b[37m\u001b[0m \u001b[1m2s\u001b[0m 18ms/step\n",
            "\n",
            " Validation Accuracy: 0.9460, Loss: 0.1474\n",
            "              precision    recall  f1-score   support\n",
            "\n",
            "           0       0.98      0.91      0.94      1436\n",
            "           1       0.92      0.98      0.95      1436\n",
            "\n",
            "    accuracy                           0.95      2872\n",
            "   macro avg       0.95      0.95      0.95      2872\n",
            "weighted avg       0.95      0.95      0.95      2872\n",
            "\n",
            "Confusion Matrix:\n",
            "[[1309  127]\n",
            " [  28 1408]]\n",
            "ROC-AUC: 0.9460\n"
          ]
        }
      ],
      "source": [
        "\n",
        "val_loss, val_acc = model.evaluate(X_val, y_val)\n",
        "y_pred = (model.predict(X_val) > 0.5).astype(int)\n",
        "\n",
        "print(f\"\\n Validation Accuracy: {val_acc:.4f}, Loss: {val_loss:.4f}\")\n",
        "print(classification_report(y_val, y_pred))\n",
        "print(\"Confusion Matrix:\")\n",
        "print(confusion_matrix(y_val, y_pred))\n",
        "print(f\"ROC-AUC: {roc_auc_score(y_val, y_pred):.4f}\")"
      ]
    },
    {
      "cell_type": "code",
      "execution_count": null,
      "metadata": {
        "id": "M9Os_qiq1H3R"
      },
      "outputs": [],
      "source": [
        "import matplotlib.pyplot as plt\n",
        "\n",
        "# Plot training curves"
      ]
    },
    {
      "cell_type": "code",
      "execution_count": 19,
      "metadata": {
        "id": "ymI5EV241Emg",
        "colab": {
          "base_uri": "https://localhost:8080/",
          "height": 426
        },
        "outputId": "c1b9dc5e-fdfa-45ab-b2eb-e9baaa33ba5a"
      },
      "outputs": [
        {
          "output_type": "stream",
          "name": "stdout",
          "text": [
            "\u001b[1m90/90\u001b[0m \u001b[32m━━━━━━━━━━━━━━━━━━━━\u001b[0m\u001b[37m\u001b[0m \u001b[1m2s\u001b[0m 19ms/step - accuracy: 0.9435 - loss: 0.1552\n",
            " Validation Accuracy: 0.9460, Loss: 0.1474\n"
          ]
        },
        {
          "output_type": "display_data",
          "data": {
            "text/plain": [
              "<Figure size 1000x400 with 2 Axes>"
            ],
            "image/png": "[encoded data removed]"
          },
          "metadata": {}
        }
      ],
      "source": [
        "val_loss, val_acc = model.evaluate(X_val, y_val)\n",
        "print(f\" Validation Accuracy: {val_acc:.4f}, Loss: {val_loss:.4f}\")\n",
        "\n",
        "# Plot training curves\n",
        "plt.figure(figsize=(10,4))\n",
        "plt.subplot(1,2,1)\n",
        "plt.plot(history.history['accuracy'], label='Train Acc')\n",
        "plt.plot(history.history['val_accuracy'], label='Val Acc')\n",
        "plt.legend(); plt.title(\"Accuracy\")\n",
        "\n",
        "plt.subplot(1,2,2)\n",
        "plt.plot(history.history['loss'], label='Train Loss')\n",
        "plt.plot(history.history['val_loss'], label='Val Loss')\n",
        "plt.legend(); plt.title(\"Loss\")\n",
        "plt.show()"
      ]
    },
    {
      "cell_type": "markdown",
      "metadata": {
        "id": "DEC6wENhcN2U"
      },
      "source": [
        "# Advanced Evaluation Metrics"
      ]
    },
    {
      "cell_type": "code",
      "execution_count": 20,
      "metadata": {
        "id": "qubsmHk1cCyo",
        "colab": {
          "base_uri": "https://localhost:8080/",
          "height": 1000
        },
        "outputId": "f9925114-1610-4375-f7ad-e96c04b2e348"
      },
      "outputs": [
        {
          "output_type": "stream",
          "name": "stdout",
          "text": [
            "\u001b[1m90/90\u001b[0m \u001b[32m━━━━━━━━━━━━━━━━━━━━\u001b[0m\u001b[37m\u001b[0m \u001b[1m2s\u001b[0m 19ms/step\n",
            "\n",
            " --- Model Performance Summary ---\n",
            "Accuracy     : 0.9460\n",
            "Precision    : 0.9173\n",
            "Sensitivity  : 0.9805\n",
            "Specificity  : 0.9116\n",
            "F1-Score     : 0.9478\n",
            "ROC-AUC      : 0.9879\n"
          ]
        },
        {
          "output_type": "display_data",
          "data": {
            "text/plain": [
              "<Figure size 500x400 with 2 Axes>"
            ],
            "image/png": "[encoded data removed]"
          },
          "metadata": {}
        },
        {
          "output_type": "display_data",
          "data": {
            "text/plain": [
              "<Figure size 640x480 with 1 Axes>"
            ],
            "image/png": "[encoded data removed]"
          },
          "metadata": {}
        }
      ],
      "source": [
        "from sklearn.metrics import (\n",
        "    confusion_matrix, classification_report, roc_auc_score, roc_curve,\n",
        "    precision_score, recall_score, f1_score, accuracy_score\n",
        ")\n",
        "import seaborn as sns\n",
        "import matplotlib.pyplot as plt\n",
        "import numpy as np\n",
        "\n",
        "# Predictions\n",
        "y_pred_prob = model.predict(X_val)\n",
        "y_pred = (y_pred_prob > 0.5).astype(int)\n",
        "\n",
        "# Confusion Matrix\n",
        "cm = confusion_matrix(y_val, y_pred)\n",
        "tn, fp, fn, tp = cm.ravel()\n",
        "\n",
        "# Metrics\n",
        "accuracy = accuracy_score(y_val, y_pred)\n",
        "precision = precision_score(y_val, y_pred)\n",
        "recall = recall_score(y_val, y_pred)\n",
        "specificity = tn / (tn + fp)\n",
        "f1 = f1_score(y_val, y_pred)\n",
        "roc_auc = roc_auc_score(y_val, y_pred_prob)\n",
        "\n",
        "# Display results\n",
        "print(\"\\n --- Model Performance Summary ---\")\n",
        "print(f\"Accuracy     : {accuracy:.4f}\")\n",
        "print(f\"Precision    : {precision:.4f}\")\n",
        "print(f\"Sensitivity  : {recall:.4f}\")\n",
        "print(f\"Specificity  : {specificity:.4f}\")\n",
        "print(f\"F1-Score     : {f1:.4f}\")\n",
        "print(f\"ROC-AUC      : {roc_auc:.4f}\")\n",
        "\n",
        "# Plot Confusion Matrix\n",
        "plt.figure(figsize=(5,4))\n",
        "sns.heatmap(cm, annot=True, fmt='d', cmap='Blues')\n",
        "plt.title(\"Confusion Matrix\")\n",
        "plt.xlabel(\"Predicted\")\n",
        "plt.ylabel(\"True\")\n",
        "plt.show()\n",
        "\n",
        "# ROC-AUC Curve\n",
        "fpr, tpr, _ = roc_curve(y_val, y_pred_prob)\n",
        "plt.plot(fpr, tpr, label=f\"AUC = {roc_auc:.2f}\")\n",
        "plt.plot([0, 1], [0, 1], 'k--')\n",
        "plt.xlabel('False Positive Rate')\n",
        "plt.ylabel('True Positive Rate')\n",
        "plt.title('ROC-AUC Curve')\n",
        "plt.legend()\n",
        "plt.show()"
      ]
    },
    {
      "cell_type": "code",
      "execution_count": 21,
      "metadata": {
        "id": "GzoWp_hTc1WC",
        "colab": {
          "base_uri": "https://localhost:8080/"
        },
        "outputId": "e141c393-9f35-48ba-e792-deca94740410"
      },
      "outputs": [
        {
          "output_type": "stream",
          "name": "stdout",
          "text": [
            "\u001b[1m248/248\u001b[0m \u001b[32m━━━━━━━━━━━━━━━━━━━━\u001b[0m\u001b[37m\u001b[0m \u001b[1m4s\u001b[0m 18ms/step\n",
            " Saved all predictions to stage2_predictions.csv\n",
            " Found 1116 true positive candidates\n",
            "Saved 1116 high-confidence true positives to true_positive_candidates.csv\n"
          ]
        }
      ],
      "source": [
        "import numpy as np\n",
        "import pandas as pd\n",
        "\n",
        "# Get predictions for all candidates\n",
        "y_probs = model.predict(X)  # probabilities\n",
        "y_pred_binary = (y_probs > 0.5).astype(int).flatten()\n",
        "\n",
        "# Attach IDs (seriesuid & z_index) from your candidate_boxes.csv\n",
        "candidates = pd.read_csv(os.path.join(BASE_PATH, \"candidate_boxes.csv\"))\n",
        "\n",
        "# Make sure we have the same number of rows\n",
        "if len(candidates) != len(y_pred_binary):\n",
        "    print(f\" Mismatch: {len(candidates)} candidates vs {len(y_pred_binary)} predictions\")\n",
        "else:\n",
        "    candidates[\"pred_label\"] = y_pred_binary\n",
        "    candidates[\"confidence\"] = y_probs.flatten()\n",
        "\n",
        "    # Save all predictions\n",
        "    candidates.to_csv(os.path.join(BASE_PATH, \"stage2_predictions_secondRun.csv\"), index=False)\n",
        "    print(f\" Saved all predictions to stage2_predictions.csv\")\n",
        "\n",
        "    # Filter true positives only\n",
        "    true_positives = candidates[candidates[\"pred_label\"] == 1].copy()\n",
        "    print(f\" Found {len(true_positives)} true positive candidates\")\n",
        "\n",
        "    # Optionally keep high-confidence ones (example threshold 0.6)\n",
        "    #true_positives = true_positives[true_positives[\"confidence\"] >= 0.6]\n",
        "\n",
        "    # Save filtered true positives\n",
        "    true_positives.to_csv(os.path.join(BASE_PATH, \"true_positive_candidates_secondRun.csv\"), index=False)\n",
        "    print(f\"Saved {len(true_positives)} high-confidence true positives to true_positive_candidates.csv\")\n",
        "\n",
        "    # Keep in memory for next stage\n",
        "    candidate_seriesuids = true_positives[\"seriesuid\"].tolist()\n",
        "    candidate_zindices = true_positives[\"z_index\"].tolist()\n",
        "    y_pred_binary = true_positives[\"pred_label\"].values\n",
        "    y_pred_probs = true_positives[\"confidence\"].values\n"
      ]
    }
  ],
  "metadata": {
    "accelerator": "GPU",
    "colab": {
      "gpuType": "A100",
      "machine_shape": "hm",
      "provenance": []
    },
    "kernelspec": {
      "display_name": "Python 3",
      "name": "python3"
    },
    "language_info": {
      "name": "python"
    }
  },
  "nbformat": 4,
  "nbformat_minor": 0
}